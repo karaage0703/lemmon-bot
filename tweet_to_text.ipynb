{
 "cells": [
  {
   "cell_type": "markdown",
   "metadata": {},
   "source": [
    "必要なライブラリをインポート"
   ]
  },
  {
   "cell_type": "code",
   "execution_count": 2,
   "metadata": {
    "collapsed": true
   },
   "outputs": [],
   "source": [
    "import pandas as pd\n",
    "import matplotlib.pyplot as plt\n",
    "import re"
   ]
  },
  {
   "cell_type": "code",
   "execution_count": 3,
   "metadata": {},
   "outputs": [
    {
     "data": {
      "text/html": [
       "<div>\n",
       "<style>\n",
       "    .dataframe thead tr:only-child th {\n",
       "        text-align: right;\n",
       "    }\n",
       "\n",
       "    .dataframe thead th {\n",
       "        text-align: left;\n",
       "    }\n",
       "\n",
       "    .dataframe tbody tr th {\n",
       "        vertical-align: top;\n",
       "    }\n",
       "</style>\n",
       "<table border=\"1\" class=\"dataframe\">\n",
       "  <thead>\n",
       "    <tr style=\"text-align: right;\">\n",
       "      <th></th>\n",
       "      <th>tweet_id</th>\n",
       "      <th>in_reply_to_status_id</th>\n",
       "      <th>in_reply_to_user_id</th>\n",
       "      <th>timestamp</th>\n",
       "      <th>source</th>\n",
       "      <th>text</th>\n",
       "      <th>retweeted_status_id</th>\n",
       "      <th>retweeted_status_user_id</th>\n",
       "      <th>retweeted_status_timestamp</th>\n",
       "      <th>expanded_urls</th>\n",
       "    </tr>\n",
       "  </thead>\n",
       "  <tbody>\n",
       "    <tr>\n",
       "      <th>0</th>\n",
       "      <td>973899578868027392</td>\n",
       "      <td>NaN</td>\n",
       "      <td>NaN</td>\n",
       "      <td>2018-03-14 12:32:08 +0000</td>\n",
       "      <td>&lt;a href=\"http://www.hatena.ne.jp/guide/twitter...</td>\n",
       "      <td>数式で描いた桜吹雪めっちゃ綺麗！ / “誉桜に浪漫の嵐！へし切長谷部のためにp5.js(Pr...</td>\n",
       "      <td>NaN</td>\n",
       "      <td>NaN</td>\n",
       "      <td>NaN</td>\n",
       "      <td>http://htn.to/bBXz1Np1r</td>\n",
       "    </tr>\n",
       "    <tr>\n",
       "      <th>1</th>\n",
       "      <td>973899094539214849</td>\n",
       "      <td>NaN</td>\n",
       "      <td>NaN</td>\n",
       "      <td>2018-03-14 12:30:12 +0000</td>\n",
       "      <td>&lt;a href=\"http://covelline.com/feather/\" rel=\"n...</td>\n",
       "      <td>RT @sentoki: You can now use Arduino to progra...</td>\n",
       "      <td>9.738928e+17</td>\n",
       "      <td>16182543.0</td>\n",
       "      <td>2018-03-14 12:05:17 +0000</td>\n",
       "      <td>https://blog.arduino.cc/2018/03/13/you-can-now...</td>\n",
       "    </tr>\n",
       "    <tr>\n",
       "      <th>2</th>\n",
       "      <td>973892531443286016</td>\n",
       "      <td>9.738902e+17</td>\n",
       "      <td>17805330.0</td>\n",
       "      <td>2018-03-14 12:04:08 +0000</td>\n",
       "      <td>&lt;a href=\"http://twitter.com/download/iphone\" r...</td>\n",
       "      <td>@htaira どもです！この本で初めて知りました。最近増えてるみたいですねー。確かにこっち...</td>\n",
       "      <td>NaN</td>\n",
       "      <td>NaN</td>\n",
       "      <td>NaN</td>\n",
       "      <td>NaN</td>\n",
       "    </tr>\n",
       "    <tr>\n",
       "      <th>3</th>\n",
       "      <td>973892038427947008</td>\n",
       "      <td>NaN</td>\n",
       "      <td>NaN</td>\n",
       "      <td>2018-03-14 12:02:10 +0000</td>\n",
       "      <td>&lt;a href=\"http://twitter.com/download/iphone\" r...</td>\n",
       "      <td>RT @htaira: @karaage0703 オンデマンド書籍ですが、在庫せずにオンデマ...</td>\n",
       "      <td>9.738902e+17</td>\n",
       "      <td>17805330.0</td>\n",
       "      <td>2018-03-14 11:54:55 +0000</td>\n",
       "      <td>NaN</td>\n",
       "    </tr>\n",
       "    <tr>\n",
       "      <th>4</th>\n",
       "      <td>973885152135847936</td>\n",
       "      <td>9.738837e+17</td>\n",
       "      <td>15889138.0</td>\n",
       "      <td>2018-03-14 11:34:48 +0000</td>\n",
       "      <td>&lt;a href=\"http://covelline.com/feather/\" rel=\"n...</td>\n",
       "      <td>@rarewin いや、10年も経ってないですよ。7年くらいですかね。定期的に誰かがパクった...</td>\n",
       "      <td>NaN</td>\n",
       "      <td>NaN</td>\n",
       "      <td>NaN</td>\n",
       "      <td>NaN</td>\n",
       "    </tr>\n",
       "  </tbody>\n",
       "</table>\n",
       "</div>"
      ],
      "text/plain": [
       "             tweet_id  in_reply_to_status_id  in_reply_to_user_id  \\\n",
       "0  973899578868027392                    NaN                  NaN   \n",
       "1  973899094539214849                    NaN                  NaN   \n",
       "2  973892531443286016           9.738902e+17           17805330.0   \n",
       "3  973892038427947008                    NaN                  NaN   \n",
       "4  973885152135847936           9.738837e+17           15889138.0   \n",
       "\n",
       "                   timestamp  \\\n",
       "0  2018-03-14 12:32:08 +0000   \n",
       "1  2018-03-14 12:30:12 +0000   \n",
       "2  2018-03-14 12:04:08 +0000   \n",
       "3  2018-03-14 12:02:10 +0000   \n",
       "4  2018-03-14 11:34:48 +0000   \n",
       "\n",
       "                                              source  \\\n",
       "0  <a href=\"http://www.hatena.ne.jp/guide/twitter...   \n",
       "1  <a href=\"http://covelline.com/feather/\" rel=\"n...   \n",
       "2  <a href=\"http://twitter.com/download/iphone\" r...   \n",
       "3  <a href=\"http://twitter.com/download/iphone\" r...   \n",
       "4  <a href=\"http://covelline.com/feather/\" rel=\"n...   \n",
       "\n",
       "                                                text  retweeted_status_id  \\\n",
       "0  数式で描いた桜吹雪めっちゃ綺麗！ / “誉桜に浪漫の嵐！へし切長谷部のためにp5.js(Pr...                  NaN   \n",
       "1  RT @sentoki: You can now use Arduino to progra...         9.738928e+17   \n",
       "2  @htaira どもです！この本で初めて知りました。最近増えてるみたいですねー。確かにこっち...                  NaN   \n",
       "3  RT @htaira: @karaage0703 オンデマンド書籍ですが、在庫せずにオンデマ...         9.738902e+17   \n",
       "4  @rarewin いや、10年も経ってないですよ。7年くらいですかね。定期的に誰かがパクった...                  NaN   \n",
       "\n",
       "   retweeted_status_user_id retweeted_status_timestamp  \\\n",
       "0                       NaN                        NaN   \n",
       "1                16182543.0  2018-03-14 12:05:17 +0000   \n",
       "2                       NaN                        NaN   \n",
       "3                17805330.0  2018-03-14 11:54:55 +0000   \n",
       "4                       NaN                        NaN   \n",
       "\n",
       "                                       expanded_urls  \n",
       "0                            http://htn.to/bBXz1Np1r  \n",
       "1  https://blog.arduino.cc/2018/03/13/you-can-now...  \n",
       "2                                                NaN  \n",
       "3                                                NaN  \n",
       "4                                                NaN  "
      ]
     },
     "execution_count": 3,
     "metadata": {},
     "output_type": "execute_result"
    }
   ],
   "source": [
    "df = pd.read_csv('tweets.csv')\n",
    "\n",
    "# 中身を確認する\n",
    "df.head()"
   ]
  },
  {
   "cell_type": "markdown",
   "metadata": {},
   "source": [
    "テキストの前処理関数"
   ]
  },
  {
   "cell_type": "code",
   "execution_count": 23,
   "metadata": {
    "collapsed": true
   },
   "outputs": [],
   "source": [
    "def normalize_text(text):\n",
    "    text = re.sub(r'\\[.*?\\]', \"\", text)\n",
    "    text = re.sub(r'#', \"\", text)\n",
    "    text = re.sub(r'\\!', \"\", text)\n",
    "    text = re.sub(r'\\(.*', \"\", text)\n",
    "    text = re.sub(r'.*\\)', \"\", text)\n",
    "    text = re.sub(r'\\*', \"\", text)\n",
    "    text = re.sub(r'\\n', \"\", text)\n",
    "    text = re.sub(r'\\$.*', \"\", text)\n",
    "    text = re.sub(r'`.*`', \"\", text)\n",
    "    text = re.sub(r'https?://[\\w/:%#\\$&\\?\\(\\)~\\.=\\+\\-…]+', \"\", text)\n",
    "    text = re.sub(r'@.* ', \"\", text)\n",
    "    text = text.strip()\n",
    "    return text"
   ]
  },
  {
   "cell_type": "markdown",
   "metadata": {},
   "source": [
    "前処理前のツイートを確認"
   ]
  },
  {
   "cell_type": "code",
   "execution_count": 5,
   "metadata": {},
   "outputs": [
    {
     "data": {
      "text/plain": [
       "0    数式で描いた桜吹雪めっちゃ綺麗！ / “誉桜に浪漫の嵐！へし切長谷部のためにp5.js(Pr...\n",
       "2    @htaira どもです！この本で初めて知りました。最近増えてるみたいですねー。確かにこっち...\n",
       "4    @rarewin いや、10年も経ってないですよ。7年くらいですかね。定期的に誰かがパクった...\n",
       "5    妻向けブクマ / 他21コメント https://t.co/iHcdxyAOxX “「香取慎...\n",
       "6    身体に優しそうなラーメン屋さんに来た (@ 有機栽培野菜のラーメン すみれ in 津市, 三...\n",
       "Name: text, dtype: object"
      ]
     },
     "execution_count": 5,
     "metadata": {},
     "output_type": "execute_result"
    }
   ],
   "source": [
    "df['text'][df['retweeted_status_id'].isnull()].head()"
   ]
  },
  {
   "cell_type": "markdown",
   "metadata": {},
   "source": [
    "ツイートの前処理"
   ]
  },
  {
   "cell_type": "code",
   "execution_count": 24,
   "metadata": {},
   "outputs": [
    {
     "name": "stdout",
     "output_type": "stream",
     "text": [
      "['数式で描いた桜吹雪めっちゃ綺麗！ / “誉桜に浪漫の嵐！へし切長谷部のためにp5.js', 'どもです！この本で初めて知りました。最近増えてるみたいですねー。確かにこっちの方式の方が経済的で良いなと思います。', 'いや、10年も経ってないですよ。7年くらいですかね。定期的に誰かがパクったのが回ってくるのでもう飽きましたw', '妻向けブクマ / 他21コメント  “「香取慎吾は天才」\\u3000小西康陽が明かした「72」創作秘話と3人への思い”']\n"
     ]
    }
   ],
   "source": [
    "text_list_pandas = df['text'][df['retweeted_status_id'].isnull()].values.tolist()\n",
    "text_list = []\n",
    "for text in text_list_pandas:\n",
    "    text = normalize_text(text)\n",
    "    text_list.append(text)\n",
    "    \n",
    "print(text_list[0:4])"
   ]
  },
  {
   "cell_type": "markdown",
   "metadata": {
    "collapsed": true
   },
   "source": [
    "ファイルの書き出し"
   ]
  },
  {
   "cell_type": "code",
   "execution_count": 27,
   "metadata": {},
   "outputs": [],
   "source": [
    "with open('tweet_text.txt', 'w') as f:\n",
    "    for x in text_list:\n",
    "        f.write(str(x) + \"\\n\")"
   ]
  }
 ],
 "metadata": {
  "kernelspec": {
   "display_name": "Python 3",
   "language": "python",
   "name": "python3"
  },
  "language_info": {
   "codemirror_mode": {
    "name": "ipython",
    "version": 3
   },
   "file_extension": ".py",
   "mimetype": "text/x-python",
   "name": "python",
   "nbconvert_exporter": "python",
   "pygments_lexer": "ipython3",
   "version": "3.6.1"
  }
 },
 "nbformat": 4,
 "nbformat_minor": 2
}
